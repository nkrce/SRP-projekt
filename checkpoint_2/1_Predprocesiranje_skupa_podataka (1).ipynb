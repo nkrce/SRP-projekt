{
  "nbformat": 4,
  "nbformat_minor": 0,
  "metadata": {
    "colab": {
      "provenance": []
    },
    "kernelspec": {
      "name": "python3",
      "display_name": "Python 3"
    },
    "language_info": {
      "name": "python"
    }
  },
  "cells": [
    {
      "cell_type": "code",
      "execution_count": 7,
      "metadata": {
        "colab": {
          "base_uri": "https://localhost:8080/"
        },
        "id": "6FUSF0FJpR68",
        "outputId": "7b6f9039-7140-4e7e-c283-604ed891d907"
      },
      "outputs": [
        {
          "output_type": "stream",
          "name": "stdout",
          "text": [
            "CSV size before:  (17562, 35)\n"
          ]
        }
      ],
      "source": [
        "import pandas as pd\n",
        "\n",
        "\"\"\"\n",
        "1. Predprocesiranje skupa podataka\n",
        "\n",
        "\"\"\"\n",
        "\n",
        "# Određivanje putanje do CSV datoteke\n",
        "CSV_FILE_PATH = \"/content/anime.csv\"\n",
        "\n",
        "# Učitavanje CSV datoteke (provjerite svoje delimiter u csv datoteci), ispis broja redaka i stupaca\n",
        "df = pd.read_csv(CSV_FILE_PATH, delimiter=',')\n",
        "print(\"CSV size before: \", df.shape)"
      ]
    },
    {
      "cell_type": "code",
      "source": [
        "df = df.drop(columns=['Japanese name']) # Brisanje nepotrebnog stupaca (stupac ima znakove koje sql ne prepoznaje)\n",
        "df = df.dropna() # Brisanje redaka s nedostajućim vrijednostima\n",
        "print(\"CSV size after: \", df.shape) # Ispis broja redaka i stupaca nakon predprocesiranja\n",
        "print(df.head()) # Ispis prvih redaka dataframe-a"
      ],
      "metadata": {
        "colab": {
          "base_uri": "https://localhost:8080/"
        },
        "id": "ZWvrOfjitlvJ",
        "outputId": "ebd4d2d6-daf5-43ce-ef97-224d4e3c360c"
      },
      "execution_count": 8,
      "outputs": [
        {
          "output_type": "stream",
          "name": "stdout",
          "text": [
            "CSV size after:  (17562, 34)\n",
            "   MAL_ID                             Name Score  \\\n",
            "0       1                     Cowboy Bebop  8.78   \n",
            "1       5  Cowboy Bebop: Tengoku no Tobira  8.39   \n",
            "2       6                           Trigun  8.24   \n",
            "3       7               Witch Hunter Robin  7.27   \n",
            "4       8                   Bouken Ou Beet  6.98   \n",
            "\n",
            "                                              Genres            English name  \\\n",
            "0    Action, Adventure, Comedy, Drama, Sci-Fi, Space            Cowboy Bebop   \n",
            "1              Action, Drama, Mystery, Sci-Fi, Space  Cowboy Bebop:The Movie   \n",
            "2  Action, Sci-Fi, Adventure, Comedy, Drama, Shounen                  Trigun   \n",
            "3  Action, Mystery, Police, Supernatural, Drama, ...      Witch Hunter Robin   \n",
            "4          Adventure, Fantasy, Shounen, Supernatural  Beet the Vandel Buster   \n",
            "\n",
            "    Type Episodes                         Aired    Premiered  \\\n",
            "0     TV       26   Apr 3, 1998 to Apr 24, 1999  Spring 1998   \n",
            "1  Movie        1                   Sep 1, 2001      Unknown   \n",
            "2     TV       26   Apr 1, 1998 to Sep 30, 1998  Spring 1998   \n",
            "3     TV       26   Jul 2, 2002 to Dec 24, 2002  Summer 2002   \n",
            "4     TV       52  Sep 30, 2004 to Sep 29, 2005    Fall 2004   \n",
            "\n",
            "                                           Producers  ...  Score-10   Score-9  \\\n",
            "0                                      Bandai Visual  ...  229170.0  182126.0   \n",
            "1                             Sunrise, Bandai Visual  ...   30043.0   49201.0   \n",
            "2                               Victor Entertainment  ...   50229.0   75651.0   \n",
            "3  TV Tokyo, Bandai Visual, Dentsu, Victor Entert...  ...    2182.0    4806.0   \n",
            "4                                   TV Tokyo, Dentsu  ...     312.0     529.0   \n",
            "\n",
            "    Score-8  Score-7  Score-6 Score-5  Score-4  Score-3  Score-2  Score-1  \n",
            "0  131625.0  62330.0  20688.0  8904.0   3184.0   1357.0    741.0   1580.0  \n",
            "1   49505.0  22632.0   5805.0  1877.0    577.0    221.0    109.0    379.0  \n",
            "2   86142.0  49432.0  15376.0  5838.0   1965.0    664.0    316.0    533.0  \n",
            "3   10128.0  11618.0   5709.0  2920.0   1083.0    353.0    164.0    131.0  \n",
            "4    1242.0   1713.0   1068.0   634.0    265.0     83.0     50.0     27.0  \n",
            "\n",
            "[5 rows x 34 columns]\n"
          ]
        }
      ]
    },
    {
      "cell_type": "code",
      "source": [
        "# Random dijeljenje skupa podataka na dva dijela 80:20 (trebati će nam kasnije)\n",
        "df20 = df.sample(frac=0.2, random_state=1)\n",
        "df = df.drop(df20.index)\n",
        "print(\"CSV size 80: \", df.shape)\n",
        "print(\"CSV size 20: \", df20.shape)"
      ],
      "metadata": {
        "colab": {
          "base_uri": "https://localhost:8080/"
        },
        "id": "repv1fd0tqbN",
        "outputId": "4c09c806-ccc3-4487-b755-7b9926f5ca87"
      },
      "execution_count": 9,
      "outputs": [
        {
          "output_type": "stream",
          "name": "stdout",
          "text": [
            "CSV size 80:  (14050, 34)\n",
            "CSV size 20:  (3512, 34)\n"
          ]
        }
      ]
    },
    {
      "cell_type": "code",
      "source": [
        "# Spremanje predprocesiranog skupa podataka u novu CSV datoteku\n",
        "df.to_csv(\"anime_PROCESSED.csv\", index=False) # Spremanje predprocesiranog skupa podataka u novu CSV datoteku\n",
        "df20.to_csv(\"anime_PROCESSED_20.csv\", index=False) # Spremanje 20% skupa podataka u novu CSV datoteku"
      ],
      "metadata": {
        "id": "0kP_mjV6t2L6"
      },
      "execution_count": 10,
      "outputs": []
    }
  ]
}