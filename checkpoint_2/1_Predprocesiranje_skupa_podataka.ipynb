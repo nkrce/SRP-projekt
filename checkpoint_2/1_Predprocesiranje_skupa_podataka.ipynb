{
  "nbformat": 4,
  "nbformat_minor": 0,
  "metadata": {
    "colab": {
      "provenance": []
    },
    "kernelspec": {
      "name": "python3",
      "display_name": "Python 3"
    },
    "language_info": {
      "name": "python"
    }
  },
  "cells": [
    {
      "cell_type": "code",
      "execution_count": 6,
      "metadata": {
        "colab": {
          "base_uri": "https://localhost:8080/"
        },
        "id": "6FUSF0FJpR68",
        "outputId": "abc11021-bfdc-469c-f073-fe74e1abc4df"
      },
      "outputs": [
        {
          "output_type": "stream",
          "name": "stdout",
          "text": [
            "CSV size before:  (39705, 20)\n"
          ]
        }
      ],
      "source": [
        "import pandas as pd\n",
        "\n",
        "\"\"\"\n",
        "1. Predprocesiranje skupa podataka\n",
        "\n",
        "\"\"\"\n",
        "\n",
        "# Određivanje putanje do CSV datoteke\n",
        "CSV_FILE_PATH = \"/content/book1000k-1100k.csv\"\n",
        "\n",
        "# Učitavanje CSV datoteke (provjerite svoje delimiter u csv datoteci), ispis broja redaka i stupaca\n",
        "df = pd.read_csv(CSV_FILE_PATH, delimiter=',')\n",
        "print(\"CSV size before: \", df.shape)"
      ]
    },
    {
      "cell_type": "code",
      "source": [
        "df = df.drop(columns=['Language']) # Brisanje nepotrebnog stupaca (stupac ima previse nedostajucih vrijednosti)\n",
        "df = df.dropna() # Brisanje redaka s nedostajućim vrijednostima\n",
        "print(\"CSV size after: \", df.shape) # Ispis broja redaka i stupaca nakon predprocesiranja\n",
        "print(df.head()) # Ispis prvih redaka dataframe-a"
      ],
      "metadata": {
        "colab": {
          "base_uri": "https://localhost:8080/"
        },
        "id": "ZWvrOfjitlvJ",
        "outputId": "a33cb0fc-abc6-4472-cad9-68739191a283"
      },
      "execution_count": 7,
      "outputs": [
        {
          "output_type": "stream",
          "name": "stdout",
          "text": [
            "CSV size after:  (34240, 19)\n",
            "        Id                                 Name               Authors  \\\n",
            "0  1000000                     Flight from Eden     Kathryn A. Graham   \n",
            "1  1000001                      Roommates Again  Kathryn O. Galbraith   \n",
            "2  1000003                 The King At The Door            Brock Cole   \n",
            "3  1000004  Giotto: The Scrovegni Chapel, Padua            Bruce Cole   \n",
            "4  1000005                          Larky Mavis            Brock Cole   \n",
            "\n",
            "         ISBN  Rating  PublishYear  PublishMonth  PublishDay  \\\n",
            "0  0595199402    4.00         2001             1          10   \n",
            "1  0689505973    3.20         1994             1           4   \n",
            "2  0374440417    3.95         1992            31          12   \n",
            "3  080761310X    4.47         1993             1           8   \n",
            "4  0374343659    3.69         2001             3           8   \n",
            "\n",
            "                         Publisher RatingDist5 RatingDist4 RatingDist3  \\\n",
            "0          Writer's Showcase Press         5:1         4:1         3:1   \n",
            "1      Margaret K. McElderry Books         5:0         4:3         3:1   \n",
            "2             Farrar Straus Giroux         5:5         4:9         3:4   \n",
            "3                 George Braziller         5:9         4:5         3:0   \n",
            "4  Farrar, Straus and Giroux (BYR)        5:19        4:12         3:9   \n",
            "\n",
            "  RatingDist2 RatingDist1 RatingDistTotal  CountsOfReview  pagesNumber  \\\n",
            "0         2:0         1:0         total:3               1          380   \n",
            "1         2:0         1:1         total:5               1           44   \n",
            "2         2:1         1:0        total:19               0           32   \n",
            "3         2:1         1:0        total:15               2          118   \n",
            "4         2:7         1:4        total:51               8           32   \n",
            "\n",
            "                                         Description  Count of text reviews  \n",
            "0  What could a computer expert, a mercenary with...                      1  \n",
            "1  During their stay at Camp Sleep-Away, sisters ...                      1  \n",
            "2  A poorly dressed old man appears at an inn and...                      0  \n",
            "3  This beautiful series lavishly illustrates the...                      2  \n",
            "4  <b>Another orginal picture-book fairy tale</b>...                      8  \n"
          ]
        }
      ]
    },
    {
      "cell_type": "code",
      "source": [
        "# Random dijeljenje skupa podataka na dva dijela 80:20 (trebati će nam kasnije)\n",
        "df20 = df.sample(frac=0.2, random_state=1)\n",
        "df = df.drop(df20.index)\n",
        "print(\"CSV size 80: \", df.shape)\n",
        "print(\"CSV size 20: \", df20.shape)"
      ],
      "metadata": {
        "colab": {
          "base_uri": "https://localhost:8080/"
        },
        "id": "repv1fd0tqbN",
        "outputId": "5e90a1ec-a672-4d4d-f1da-a9786f313114"
      },
      "execution_count": 8,
      "outputs": [
        {
          "output_type": "stream",
          "name": "stdout",
          "text": [
            "CSV size 80:  (27392, 19)\n",
            "CSV size 20:  (6848, 19)\n"
          ]
        }
      ]
    },
    {
      "cell_type": "code",
      "source": [
        "# Spremanje predprocesiranog skupa podataka u novu CSV datoteku\n",
        "df.to_csv(\"book1000k-1100k_PROCESSED.csv\", index=False) # Spremanje predprocesiranog skupa podataka u novu CSV datoteku\n",
        "df20.to_csv(\"book1000k-1100k_PROCESSED_20.csv\", index=False) # Spremanje 20% skupa podataka u novu CSV datoteku"
      ],
      "metadata": {
        "id": "0kP_mjV6t2L6"
      },
      "execution_count": 9,
      "outputs": []
    }
  ]
}